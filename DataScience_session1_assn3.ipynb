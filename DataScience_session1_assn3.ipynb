{
 "cells": [
  {
   "cell_type": "code",
   "execution_count": 13,
   "metadata": {},
   "outputs": [
    {
     "name": "stdout",
     "output_type": "stream",
     "text": [
      "What is your first name? Sachin\n",
      "What is your last name? Tendulkar\n",
      "Name:  Sachin Tendulkar\n",
      "Reverse Order of name:  rakludneT nihcaS\n"
     ]
    }
   ],
   "source": [
    "# Write a Python program to accept the user's first and last name and then getting them\n",
    "# printed in the the reverse order with a space between first name and last name.\n",
    "\n",
    "fname = input(\"What is your first name? \")\n",
    "lname = input(\"What is your last name? \")\n",
    "\n",
    "name = fname +\" \"+ lname\n",
    "name_r = name[::-1]\n",
    "\n",
    "\n",
    "print (\"Name: \", name)\n",
    "print (\"Reverse Order of name: \", name_r )\n"
   ]
  },
  {
   "cell_type": "code",
   "execution_count": null,
   "metadata": {
    "collapsed": true
   },
   "outputs": [],
   "source": []
  }
 ],
 "metadata": {
  "kernelspec": {
   "display_name": "Python 3",
   "language": "python",
   "name": "python3"
  },
  "language_info": {
   "codemirror_mode": {
    "name": "ipython",
    "version": 3
   },
   "file_extension": ".py",
   "mimetype": "text/x-python",
   "name": "python",
   "nbconvert_exporter": "python",
   "pygments_lexer": "ipython3",
   "version": "3.6.3"
  }
 },
 "nbformat": 4,
 "nbformat_minor": 2
}
